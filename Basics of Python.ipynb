{
  "nbformat": 4,
  "nbformat_minor": 0,
  "metadata": {
    "colab": {
      "provenance": []
    },
    "kernelspec": {
      "name": "python3",
      "display_name": "Python 3"
    },
    "language_info": {
      "name": "python"
    }
  },
  "cells": [
    {
      "cell_type": "markdown",
      "source": [
        "Python basic questions"
      ],
      "metadata": {
        "id": "sf11VyAz8GvI"
      }
    },
    {
      "cell_type": "markdown",
      "source": [
        "1.What is Python, and why is it popular?\n",
        "  Python is a programming language which is used to communicate between Humans and computer.It is popular due to its simplicity, versatility,easy to learn and use,it has extensive libraries etc.\n",
        "\n",
        "2.What is an interpreter in Python?\n",
        "  Python interpreter is a program that executes Python code.\n",
        "\n",
        "3.What are pre-defined keywords in Python?\n",
        "  Pre-defined keywords that hold a special meaning and have specific purpose in python\n",
        "  Ex-print,type\n",
        "\n",
        "4.Can keywords be used as variable name?\n",
        "  No\n",
        "\n",
        "5.What is mutability in Python?\n",
        "  Mutability refers to the ability of an object to change its state or contents after it has been created.\n",
        "\n",
        "6.Why are lists mutable, but tuples are immutable?\n",
        "  Because list allows modification while tuples don't allows modification after they are created.\n",
        "\n",
        "7.What is the difference between “==” and “is” operators in Python?\n",
        "  “==” is use to compare values and “is” compares object identity.\n",
        "\n",
        "8.What are logical operators in Python?\n",
        "  Logical operators in Python are used to combine conditional statements, allows to perform operations based on multiple conditions. These operators include and, or, and not.\n",
        "\n",
        "9.What is type casting in Python?\n",
        "  Type casting in Python refers to the process of converting one data type into another.\n",
        "\n",
        "10.What is the difference between implicit and explicit type casting?\n",
        "   Implicit type casting is automatic conversion by python while explicit type casting is manually done by the programmer.\n",
        "\n",
        "11.What is the purpose of conditional statements in Python?\n",
        "   Conditional statements in Python are used to control the flow of execution based on certain conditions. They allow a program to make decisions and execute different blocks of code depending on whether a condition is True or False.\n",
        "\n",
        "12.How does the elif statement work?\n",
        "   The elif statement in Python is used for multiple conditional checks when an if condition is not met, but there are alternative possibilities to evaluate before reaching else.\n",
        "\n",
        "13.What is the difference between for and while loops?\n",
        "   for loop is use when you know the number of iteration beforehand and while loops is used when number of iteration is unknown.\n",
        "   \n",
        "14.Describe a scenario where a while loop is more suitable than a for loop?\n",
        "   correct_password = \"Python123\"\n",
        "   user_input = \"\"\n",
        "\n",
        "while user_input != correct_password:  # Runs until correct password is entered\n",
        "user_input = input(\"Enter password: \")\n",
        "\n",
        "print(\"Access granted!\")\n",
        "\n",
        "   \n",
        "\n",
        "\n",
        "\n",
        "   \n",
        "\n",
        "\n",
        "\n"
      ],
      "metadata": {
        "id": "QU-vj3xT8LJQ"
      }
    },
    {
      "cell_type": "markdown",
      "source": [
        "1.Write a Python program to print \"Hello, World!\""
      ],
      "metadata": {
        "id": "vdRUbLTaFy4a"
      }
    },
    {
      "cell_type": "code",
      "execution_count": null,
      "metadata": {
        "colab": {
          "base_uri": "https://localhost:8080/"
        },
        "id": "i0azbc7o6oEs",
        "outputId": "4183abe1-fcda-4829-96c0-a84dc42e88d2"
      },
      "outputs": [
        {
          "output_type": "stream",
          "name": "stdout",
          "text": [
            "Hello,World\n"
          ]
        }
      ],
      "source": [
        "print(\"Hello,World\")"
      ]
    },
    {
      "cell_type": "markdown",
      "source": [
        "2.Write a Python program that displays your name and age?"
      ],
      "metadata": {
        "id": "Z0XfKLaKFxlt"
      }
    },
    {
      "cell_type": "code",
      "source": [
        "name='preetishree'\n",
        "age=27\n",
        "print(\"Name:\" ,name)\n",
        "print(\"Age:\" , age)"
      ],
      "metadata": {
        "colab": {
          "base_uri": "https://localhost:8080/"
        },
        "id": "fUtp0VqYGSIN",
        "outputId": "85aeac99-06db-462f-a335-2ad4eadba23e"
      },
      "execution_count": null,
      "outputs": [
        {
          "output_type": "stream",
          "name": "stdout",
          "text": [
            "Name: preetishree\n",
            "Age: 27\n"
          ]
        }
      ]
    },
    {
      "cell_type": "markdown",
      "source": [
        " 3.Write code to print all the pre-defined keywords in Python using the keyword library?"
      ],
      "metadata": {
        "id": "a17aTrXV6wTk"
      }
    },
    {
      "cell_type": "code",
      "source": [
        "help('keywords')"
      ],
      "metadata": {
        "colab": {
          "base_uri": "https://localhost:8080/"
        },
        "id": "fhkAg4ysHxCF",
        "outputId": "b36e0dea-e170-49b7-bee7-3e12cb52371c"
      },
      "execution_count": null,
      "outputs": [
        {
          "output_type": "stream",
          "name": "stdout",
          "text": [
            "\n",
            "Here is a list of the Python keywords.  Enter any keyword to get more help.\n",
            "\n",
            "False               class               from                or\n",
            "None                continue            global              pass\n",
            "True                def                 if                  raise\n",
            "and                 del                 import              return\n",
            "as                  elif                in                  try\n",
            "assert              else                is                  while\n",
            "async               except              lambda              with\n",
            "await               finally             nonlocal            yield\n",
            "break               for                 not                 \n",
            "\n"
          ]
        }
      ]
    },
    {
      "cell_type": "markdown",
      "source": [
        "4.Write a program that checks if a given word is a Python keyword."
      ],
      "metadata": {
        "id": "CkKA6C_LIY_9"
      }
    },
    {
      "cell_type": "code",
      "source": [
        "bool(0)"
      ],
      "metadata": {
        "id": "JIjaUCXhISc2",
        "colab": {
          "base_uri": "https://localhost:8080/"
        },
        "outputId": "b1ba8c91-8346-43eb-f0a2-c380e7413056"
      },
      "execution_count": null,
      "outputs": [
        {
          "output_type": "execute_result",
          "data": {
            "text/plain": [
              "False"
            ]
          },
          "metadata": {},
          "execution_count": 1
        }
      ]
    },
    {
      "cell_type": "code",
      "source": [
        "bool(200)"
      ],
      "metadata": {
        "colab": {
          "base_uri": "https://localhost:8080/"
        },
        "id": "tkVHQUsPhi4A",
        "outputId": "c7ee6505-d364-4987-aa3f-8c749dfbf79c"
      },
      "execution_count": null,
      "outputs": [
        {
          "output_type": "execute_result",
          "data": {
            "text/plain": [
              "True"
            ]
          },
          "metadata": {},
          "execution_count": 2
        }
      ]
    },
    {
      "cell_type": "markdown",
      "source": [
        " 5.Write a function to demonstrate the behavior of mutable and immutable arguments?\n"
      ],
      "metadata": {
        "id": "au7rjwlPJ0AM"
      }
    },
    {
      "cell_type": "code",
      "source": [
        "list_cont=[1,2.5,'preeti']\n",
        "list_cont"
      ],
      "metadata": {
        "colab": {
          "base_uri": "https://localhost:8080/"
        },
        "id": "XOBmND2lJ8Ze",
        "outputId": "7e4ba14a-2a17-4eec-d3a7-9785866187ab"
      },
      "execution_count": null,
      "outputs": [
        {
          "output_type": "execute_result",
          "data": {
            "text/plain": [
              "[1, 2.5, 'preeti']"
            ]
          },
          "metadata": {},
          "execution_count": 6
        }
      ]
    },
    {
      "cell_type": "code",
      "source": [
        "list_cont[2]='geeta'\n",
        "list_cont"
      ],
      "metadata": {
        "colab": {
          "base_uri": "https://localhost:8080/"
        },
        "id": "Pag6_VtFKMXQ",
        "outputId": "3d6957d1-6b6f-41a6-94cb-60f17e730944"
      },
      "execution_count": null,
      "outputs": [
        {
          "output_type": "execute_result",
          "data": {
            "text/plain": [
              "[1, 2.5, 'geeta']"
            ]
          },
          "metadata": {},
          "execution_count": 7
        }
      ]
    },
    {
      "cell_type": "code",
      "source": [
        "name='preeti'"
      ],
      "metadata": {
        "id": "HKQEtsuzKhTQ"
      },
      "execution_count": null,
      "outputs": []
    },
    {
      "cell_type": "code",
      "source": [
        "name[0]='k'"
      ],
      "metadata": {
        "colab": {
          "base_uri": "https://localhost:8080/",
          "height": 145
        },
        "id": "W0S4SmzELOAW",
        "outputId": "be4165e3-5a49-4ca4-dcd1-0585c2ae21fd"
      },
      "execution_count": null,
      "outputs": [
        {
          "output_type": "error",
          "ename": "TypeError",
          "evalue": "'str' object does not support item assignment",
          "traceback": [
            "\u001b[0;31m---------------------------------------------------------------------------\u001b[0m",
            "\u001b[0;31mTypeError\u001b[0m                                 Traceback (most recent call last)",
            "\u001b[0;32m<ipython-input-11-a722ec2b724a>\u001b[0m in \u001b[0;36m<cell line: 0>\u001b[0;34m()\u001b[0m\n\u001b[0;32m----> 1\u001b[0;31m \u001b[0mname\u001b[0m\u001b[0;34m[\u001b[0m\u001b[0;36m0\u001b[0m\u001b[0;34m]\u001b[0m\u001b[0;34m=\u001b[0m\u001b[0;34m'k'\u001b[0m\u001b[0;34m\u001b[0m\u001b[0;34m\u001b[0m\u001b[0m\n\u001b[0m",
            "\u001b[0;31mTypeError\u001b[0m: 'str' object does not support item assignment"
          ]
        }
      ]
    },
    {
      "cell_type": "markdown",
      "source": [
        "Here list is mutable but string is not."
      ],
      "metadata": {
        "id": "gU6RVwdnLo3-"
      }
    },
    {
      "cell_type": "markdown",
      "source": [
        "6. Write a Python program to convert user input from string to integer, float, and boolean types?"
      ],
      "metadata": {
        "id": "mzcipOSGLw9d"
      }
    },
    {
      "cell_type": "code",
      "source": [
        "a='3'"
      ],
      "metadata": {
        "id": "4sXMmwQXLXzd"
      },
      "execution_count": null,
      "outputs": []
    },
    {
      "cell_type": "code",
      "source": [
        "int(a)"
      ],
      "metadata": {
        "colab": {
          "base_uri": "https://localhost:8080/"
        },
        "id": "gq1x9cuxMfZz",
        "outputId": "9074c1ac-d02a-4807-f623-571b37302b92"
      },
      "execution_count": null,
      "outputs": [
        {
          "output_type": "execute_result",
          "data": {
            "text/plain": [
              "3"
            ]
          },
          "metadata": {},
          "execution_count": 14
        }
      ]
    },
    {
      "cell_type": "code",
      "source": [
        "float(a)"
      ],
      "metadata": {
        "colab": {
          "base_uri": "https://localhost:8080/"
        },
        "id": "PFquGmo_M6gu",
        "outputId": "65193103-5cb0-4cfc-b885-27c928314bdf"
      },
      "execution_count": null,
      "outputs": [
        {
          "output_type": "execute_result",
          "data": {
            "text/plain": [
              "3.0"
            ]
          },
          "metadata": {},
          "execution_count": 15
        }
      ]
    },
    {
      "cell_type": "code",
      "source": [
        "bool(a)"
      ],
      "metadata": {
        "colab": {
          "base_uri": "https://localhost:8080/"
        },
        "id": "Xm-iQZxjM-ym",
        "outputId": "70999265-a1b1-4205-c301-9878463d3f89"
      },
      "execution_count": null,
      "outputs": [
        {
          "output_type": "execute_result",
          "data": {
            "text/plain": [
              "True"
            ]
          },
          "metadata": {},
          "execution_count": 16
        }
      ]
    },
    {
      "cell_type": "markdown",
      "source": [
        " 7.Write a program that performs basic arithmetic operations on two user-input numbers?"
      ],
      "metadata": {
        "id": "FK9VGl4whxA0"
      }
    },
    {
      "cell_type": "code",
      "source": [
        "a=6\n",
        "b=3\n",
        "a+b"
      ],
      "metadata": {
        "id": "HOL0hkkxNA-L",
        "colab": {
          "base_uri": "https://localhost:8080/"
        },
        "outputId": "6ba89e4d-7f2f-403a-e472-c8c48e699472"
      },
      "execution_count": null,
      "outputs": [
        {
          "output_type": "execute_result",
          "data": {
            "text/plain": [
              "9"
            ]
          },
          "metadata": {},
          "execution_count": 3
        }
      ]
    },
    {
      "cell_type": "code",
      "source": [
        "a%b"
      ],
      "metadata": {
        "colab": {
          "base_uri": "https://localhost:8080/"
        },
        "id": "qSDid7tbiBMe",
        "outputId": "f4e74017-7460-4609-a6fa-b00a9a3a995c"
      },
      "execution_count": null,
      "outputs": [
        {
          "output_type": "execute_result",
          "data": {
            "text/plain": [
              "0"
            ]
          },
          "metadata": {},
          "execution_count": 4
        }
      ]
    },
    {
      "cell_type": "code",
      "source": [
        "a//b"
      ],
      "metadata": {
        "colab": {
          "base_uri": "https://localhost:8080/"
        },
        "id": "-H21NPuaiFB-",
        "outputId": "eb98a1a7-7af0-410f-b387-0e6556334f21"
      },
      "execution_count": null,
      "outputs": [
        {
          "output_type": "execute_result",
          "data": {
            "text/plain": [
              "2"
            ]
          },
          "metadata": {},
          "execution_count": 5
        }
      ]
    },
    {
      "cell_type": "markdown",
      "source": [
        "8.Write a program to demonstrate the use of logical operators?"
      ],
      "metadata": {
        "id": "ELCPWnGuiKiW"
      }
    },
    {
      "cell_type": "code",
      "source": [
        "x=5\n",
        "print(x>3 and x<6)"
      ],
      "metadata": {
        "colab": {
          "base_uri": "https://localhost:8080/"
        },
        "id": "4W0XaTlEiJCc",
        "outputId": "3e7aadfa-fde7-4ee6-cf3f-b6cc62fe3cb1"
      },
      "execution_count": null,
      "outputs": [
        {
          "output_type": "stream",
          "name": "stdout",
          "text": [
            "True\n"
          ]
        }
      ]
    },
    {
      "cell_type": "code",
      "source": [
        "print(x>3 or x<7)"
      ],
      "metadata": {
        "colab": {
          "base_uri": "https://localhost:8080/"
        },
        "id": "3Y1SYwSmjL6M",
        "outputId": "5087487d-1bb3-4412-c46b-23298f8deead"
      },
      "execution_count": null,
      "outputs": [
        {
          "output_type": "stream",
          "name": "stdout",
          "text": [
            "True\n"
          ]
        }
      ]
    },
    {
      "cell_type": "markdown",
      "source": [
        "9.Write code to demonstrate type casting with list elements?"
      ],
      "metadata": {
        "id": "HL9Y_vIIjygF"
      }
    },
    {
      "cell_type": "code",
      "source": [
        "a=[2,2.5,'6']\n",
        "int('a')\n",
        "print(a)"
      ],
      "metadata": {
        "colab": {
          "base_uri": "https://localhost:8080/",
          "height": 181
        },
        "id": "_XunlE1QjTiT",
        "outputId": "b66c1294-beaa-40cb-d0ab-ebf4c9ac280e"
      },
      "execution_count": null,
      "outputs": [
        {
          "output_type": "error",
          "ename": "ValueError",
          "evalue": "invalid literal for int() with base 10: 'a'",
          "traceback": [
            "\u001b[0;31m---------------------------------------------------------------------------\u001b[0m",
            "\u001b[0;31mValueError\u001b[0m                                Traceback (most recent call last)",
            "\u001b[0;32m<ipython-input-15-2433853259>\u001b[0m in \u001b[0;36m<cell line: 0>\u001b[0;34m()\u001b[0m\n\u001b[1;32m      1\u001b[0m \u001b[0ma\u001b[0m\u001b[0;34m=\u001b[0m\u001b[0;34m[\u001b[0m\u001b[0;36m2\u001b[0m\u001b[0;34m,\u001b[0m\u001b[0;36m2.5\u001b[0m\u001b[0;34m,\u001b[0m\u001b[0;34m'6'\u001b[0m\u001b[0;34m]\u001b[0m\u001b[0;34m\u001b[0m\u001b[0;34m\u001b[0m\u001b[0m\n\u001b[0;32m----> 2\u001b[0;31m \u001b[0mint\u001b[0m\u001b[0;34m(\u001b[0m\u001b[0;34m'a'\u001b[0m\u001b[0;34m)\u001b[0m\u001b[0;34m\u001b[0m\u001b[0;34m\u001b[0m\u001b[0m\n\u001b[0m\u001b[1;32m      3\u001b[0m \u001b[0mprint\u001b[0m\u001b[0;34m(\u001b[0m\u001b[0ma\u001b[0m\u001b[0;34m)\u001b[0m\u001b[0;34m\u001b[0m\u001b[0;34m\u001b[0m\u001b[0m\n",
            "\u001b[0;31mValueError\u001b[0m: invalid literal for int() with base 10: 'a'"
          ]
        }
      ]
    },
    {
      "cell_type": "code",
      "source": [
        "int(2.5)\n",
        "print(a)"
      ],
      "metadata": {
        "colab": {
          "base_uri": "https://localhost:8080/"
        },
        "id": "qf2FyS1ZkP87",
        "outputId": "31a1592e-c17c-43a2-ef8d-6c9f98e565bc"
      },
      "execution_count": null,
      "outputs": [
        {
          "output_type": "stream",
          "name": "stdout",
          "text": [
            "[2, 2.5, 'preeti']\n"
          ]
        }
      ]
    },
    {
      "cell_type": "markdown",
      "source": [
        "10.Write a for loop to print numbers from 1 to 10?"
      ],
      "metadata": {
        "id": "2OgFuBNQl4Zv"
      }
    },
    {
      "cell_type": "code",
      "source": [
        "for i in range(1,11):\n",
        "  print(i)"
      ],
      "metadata": {
        "colab": {
          "base_uri": "https://localhost:8080/"
        },
        "id": "RA2SJYqnkmhW",
        "outputId": "011ce7e9-0a94-4f57-f79e-0c2ff69681e6"
      },
      "execution_count": null,
      "outputs": [
        {
          "output_type": "stream",
          "name": "stdout",
          "text": [
            "1\n",
            "2\n",
            "3\n",
            "4\n",
            "5\n",
            "6\n",
            "7\n",
            "8\n",
            "9\n",
            "10\n"
          ]
        }
      ]
    },
    {
      "cell_type": "markdown",
      "source": [
        "11.Write a Python program to find the sum of all even numbers between 1 and 50?"
      ],
      "metadata": {
        "id": "1QUyX0e0mZZ3"
      }
    },
    {
      "cell_type": "code",
      "source": [
        "i = 2\n",
        "sum = 0\n",
        "\n",
        "while (i<51):\n",
        "    sum += i\n",
        "    i += 2\n",
        "print(sum)"
      ],
      "metadata": {
        "id": "RFhLk0IImSrS",
        "colab": {
          "base_uri": "https://localhost:8080/"
        },
        "outputId": "ce8e6879-0e86-40a0-d728-ec51c2ddf918"
      },
      "execution_count": 8,
      "outputs": [
        {
          "output_type": "stream",
          "name": "stdout",
          "text": [
            "650\n"
          ]
        }
      ]
    },
    {
      "cell_type": "markdown",
      "source": [
        "12.Write a program that checks if a number is positive, negative, or zero?"
      ],
      "metadata": {
        "id": "RI7g4eIE2lXU"
      }
    },
    {
      "cell_type": "code",
      "source": [
        "number = int(input(\"enter a no:\"))\n",
        "if (number > 0) :\n",
        "  print(\"The no is positive\")\n",
        "elif(number < 0) :\n",
        "  print(\"The number is negative\")\n",
        "else:\n",
        "  print(\"The number is 0\")"
      ],
      "metadata": {
        "colab": {
          "base_uri": "https://localhost:8080/"
        },
        "id": "9CUEloJ_2Z_D",
        "outputId": "5efcee7e-64ad-4044-d443-e3fa541c5c10"
      },
      "execution_count": 3,
      "outputs": [
        {
          "output_type": "stream",
          "name": "stdout",
          "text": [
            "enter a no:54\n",
            "The no is positive\n"
          ]
        }
      ]
    },
    {
      "cell_type": "markdown",
      "source": [
        "13.Write a program to reverse a string using a while loop?"
      ],
      "metadata": {
        "id": "TU9hYYYw2wUc"
      }
    },
    {
      "cell_type": "code",
      "source": [
        "text = input(\"Enter a string:\")\n",
        "reversed_text = \"\"\n",
        "i = len(text) - 1\n",
        "while i >= 0 :\n",
        "  reversed_text += text[i]\n",
        "  i -= 1\n",
        "print(\"Reversed string:\", reversed_text)"
      ],
      "metadata": {
        "colab": {
          "base_uri": "https://localhost:8080/"
        },
        "id": "84v_p0PR2sX4",
        "outputId": "54375d5e-faf1-4418-c31b-8564494afe55"
      },
      "execution_count": 4,
      "outputs": [
        {
          "output_type": "stream",
          "name": "stdout",
          "text": [
            "Enter a string:\"preeti\"\n",
            "Reversed string: \"iteerp\"\n"
          ]
        }
      ]
    },
    {
      "cell_type": "markdown",
      "source": [
        "14.Create a list and tuple in Python, and demonstrate how attempting to change an element works differently for each?"
      ],
      "metadata": {
        "id": "-FQnm_265SnF"
      }
    },
    {
      "cell_type": "code",
      "source": [
        "my_list = [1,2,3,4]\n",
        "my_tuple = (5,6,7,8)\n",
        "\n",
        "# using .append() in list to add 10 in the list\n",
        "my_list.append(10)\n",
        "print(my_list)\n",
        "\n",
        "# using .append() in tuple to add 10 in the tuple\n",
        "my_tuple.append(10)\n",
        "print(my_tuple)"
      ],
      "metadata": {
        "colab": {
          "base_uri": "https://localhost:8080/",
          "height": 217
        },
        "id": "FVwjLvKP20ha",
        "outputId": "c0258917-76c1-4912-e28c-6dea1773c111"
      },
      "execution_count": 7,
      "outputs": [
        {
          "output_type": "stream",
          "name": "stdout",
          "text": [
            "[1, 2, 3, 4, 10]\n"
          ]
        },
        {
          "output_type": "error",
          "ename": "AttributeError",
          "evalue": "'tuple' object has no attribute 'append'",
          "traceback": [
            "\u001b[0;31m---------------------------------------------------------------------------\u001b[0m",
            "\u001b[0;31mAttributeError\u001b[0m                            Traceback (most recent call last)",
            "\u001b[0;32m/tmp/ipython-input-7-1155048164.py\u001b[0m in \u001b[0;36m<cell line: 0>\u001b[0;34m()\u001b[0m\n\u001b[1;32m      7\u001b[0m \u001b[0;34m\u001b[0m\u001b[0m\n\u001b[1;32m      8\u001b[0m \u001b[0;31m# using .append() in tuple to add 10 in the tuple\u001b[0m\u001b[0;34m\u001b[0m\u001b[0;34m\u001b[0m\u001b[0m\n\u001b[0;32m----> 9\u001b[0;31m \u001b[0mmy_tuple\u001b[0m\u001b[0;34m.\u001b[0m\u001b[0mappend\u001b[0m\u001b[0;34m(\u001b[0m\u001b[0;36m10\u001b[0m\u001b[0;34m)\u001b[0m\u001b[0;34m\u001b[0m\u001b[0;34m\u001b[0m\u001b[0m\n\u001b[0m\u001b[1;32m     10\u001b[0m \u001b[0mprint\u001b[0m\u001b[0;34m(\u001b[0m\u001b[0mmy_tuple\u001b[0m\u001b[0;34m)\u001b[0m\u001b[0;34m\u001b[0m\u001b[0;34m\u001b[0m\u001b[0m\n",
            "\u001b[0;31mAttributeError\u001b[0m: 'tuple' object has no attribute 'append'"
          ]
        }
      ]
    },
    {
      "cell_type": "markdown",
      "source": [
        "15. Write a Python program to calculate the factorial of a number provided by the user using a while loop?"
      ],
      "metadata": {
        "id": "SJHfK9lw6JTK"
      }
    },
    {
      "cell_type": "code",
      "source": [
        "num = int(input('Write a number: '))\n",
        "\n",
        "i = 1\n",
        "product = 1\n",
        "\n",
        "while (i <=num):\n",
        "    product *= i\n",
        "    i+= 1\n",
        "print(f'The factorial of {num} is: {product}')\n"
      ],
      "metadata": {
        "colab": {
          "base_uri": "https://localhost:8080/"
        },
        "id": "H5e2a38X5ft5",
        "outputId": "58af6132-f258-48e1-8010-cfa34613b9c7"
      },
      "execution_count": 9,
      "outputs": [
        {
          "output_type": "stream",
          "name": "stdout",
          "text": [
            "Write a number: 11\n",
            "The factorial of 11 is: 39916800\n"
          ]
        }
      ]
    },
    {
      "cell_type": "code",
      "source": [],
      "metadata": {
        "id": "zhls_Bc66Pdc"
      },
      "execution_count": null,
      "outputs": []
    }
  ]
}